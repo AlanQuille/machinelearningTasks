{
 "cells": [
  {
   "cell_type": "markdown",
   "metadata": {},
   "source": [
    "# Machine Learning and Statistics Tasks 2020"
   ]
  },
  {
   "cell_type": "markdown",
   "metadata": {},
   "source": [
    "## Task 1: sqrt2"
   ]
  },
  {
   "cell_type": "markdown",
   "metadata": {},
   "source": [
    "This task was accomplished by writing the sqrt2(**its, prec**) Python function, shown below.\n",
    "\n",
    "This function uses continued fractions to calculate a rational number that is an approximate value of the square root of 2 [1](#ref1). It uses a recursive algorithm to calculate and refine the numerator *p* and denominator *q* of the approximate value step by step for a number of iterations **its** (200 in this case for a very accurate approximation). The algorithm is as follows:\n",
    "\n",
    "p<sub>n+1</sub> = p<sub>n</sub> + 2q<sub>n</sub><br>\n",
    "q<sub>n+1</sub> = p<sub>n</sub> + q<sub>n</sub>"
   ]
  },
  {
   "cell_type": "markdown",
   "metadata": {},
   "source": [
    "where *p<sub>n+1</sub>* is the next step of the numerator, *p<sub>n</sub>* is the previous step of the numerator, and *q<sub>n+1</sub>* and *q<sub>n</sub>* are the next and previous steps of the numerator and denominator respectively.\n",
    "\n",
    "The function then takes the final calculated values for *p* and *q* and uses a long division algorithm to calculate digits of the square root of 2 decimal by decimal. This algorithm is a computational implementation of pen-and-paper long division. The algorithm has 5 steps:\n",
    "\n",
    "1. Calculate the result of division of *p* and *q*.\n",
    "2. Append the result from Step 1 to the string that is to be returned by the function.\n",
    "3. Calculate the remainder after division of *p* and *q*.\n",
    "4. Make *p* equal the result from Step 3 multipled by 10.\n",
    "5. Repeat for **prec** number of digits (100 in this case).\n",
    "\n",
    "The algorithm is defined as follows:"
   ]
  },
  {
   "cell_type": "code",
   "execution_count": 15,
   "metadata": {},
   "outputs": [],
   "source": [
    "# sqrt2 function definition, calculates the square\n",
    "# root of 2 through long division and returns \n",
    "# a string with the digits of the square root of 2\n",
    "# sqrt2 takes in its, which is number of iterations of\n",
    "# the continued fractions recursive algorithm\n",
    "# and prec which indicates to how many decimal\n",
    "# places the string with the digits of the square\n",
    "# root of 2 to be returned has\n",
    "def sqrt2(its, prec):\n",
    "\n",
    "    # pold is the numerator at previous step, pnew is numerator at next step\n",
    "    pold = 1\n",
    "    pnew = 0\n",
    "\n",
    "    # qold is the denominator at previous step, qnew is denominator at next step\n",
    "    qold = 1\n",
    "    qnew = 0\n",
    "\n",
    "    # This calculates an approximation of sqrt(2) as a rational number\n",
    "    # with pnew and pold as numerators (in the next and previous step\n",
    "    # respectively) and qnew and qold as denominators (in the next and \n",
    "    # previous steps respectively) for its iterations \n",
    "    for i in range(0, its):\n",
    "\n",
    "        # This is the recursion algorithm, derived from\n",
    "        # the formula for continued fractions\n",
    "        pnew = pold + 2*qold\n",
    "        qnew = pold + qold\n",
    "\n",
    "        # Make the new numerator and denominator\n",
    "        # equal the old numerator and denominator\n",
    "        # for the next step in the loop\n",
    "        pold = pnew\n",
    "        qold = qnew\n",
    "\n",
    "    # This appends the first digit of sqrt(2)\n",
    "    # to output_string (the string to be\n",
    "    # returned)\n",
    "    output_string = str(pnew // qnew) + \".\"\n",
    "\n",
    "    # This is the first step in the long division algorithm\n",
    "    # pnew is set to the remainder of pnew and qnew after\n",
    "    # division and multipled by ten for the first decimal\n",
    "    # place\n",
    "    pnew = (pnew % qnew) * 10\n",
    "\n",
    "    # This performs the long division algorithm for each decimal place\n",
    "    # (defined by prec) and appends the digits of sqrt(2) \n",
    "    # digit by digit to the output_string, which is returned \n",
    "    # at the end of the function\n",
    "    for i in range(1, prec+1):\n",
    "        output_string += str(pnew//qnew)\n",
    "        pnew = (pnew % qnew) * 10\n",
    "\n",
    "    # This returns the string, which has prec decimal places\n",
    "    # of sqrt(2)\n",
    "    return output_string"
   ]
  },
  {
   "cell_type": "markdown",
   "metadata": {},
   "source": [
    "The square root of 2 to 100 decimal places is:"
   ]
  },
  {
   "cell_type": "code",
   "execution_count": 16,
   "metadata": {
    "scrolled": true
   },
   "outputs": [],
   "source": [
    "result = sqrt2(200, 100)"
   ]
  },
  {
   "cell_type": "code",
   "execution_count": 17,
   "metadata": {},
   "outputs": [
    {
     "data": {
      "text/plain": [
       "'1.4142135623730950488016887242096980785696718753769480731766797379907324784621070388503875343276415727'"
      ]
     },
     "execution_count": 17,
     "metadata": {},
     "output_type": "execute_result"
    }
   ],
   "source": [
    "result"
   ]
  },
  {
   "cell_type": "markdown",
   "metadata": {},
   "source": [
    "This is compared with this result taken from a square root of 2 calculator online [2](#ref2):"
   ]
  },
  {
   "cell_type": "code",
   "execution_count": 18,
   "metadata": {},
   "outputs": [],
   "source": [
    "test = \"1.4142135623730950488016887242096980785696718753769480731766797379907324784621070388503875343276415727\""
   ]
  },
  {
   "cell_type": "code",
   "execution_count": 19,
   "metadata": {
    "scrolled": true
   },
   "outputs": [
    {
     "data": {
      "text/plain": [
       "True"
      ]
     },
     "execution_count": 19,
     "metadata": {},
     "output_type": "execute_result"
    }
   ],
   "source": [
    "result == test"
   ]
  },
  {
   "cell_type": "markdown",
   "metadata": {},
   "source": [
    "This result has been verified to be correct."
   ]
  },
  {
   "cell_type": "markdown",
   "metadata": {},
   "source": [
    "## References ##"
   ]
  },
  {
   "cell_type": "markdown",
   "metadata": {},
   "source": [
    "[1] Numbers, constants and computation, Xavier Gourdon and Pascal Sebah, accessed 6 October 2020, <http://numbers.computation.free.fr/Constants/Sqrt2/sqrt2.html> <a name=\"ref1\"></a><br>\n",
    "[2] CATONMAT, Peteris Krumins, accessed 6 October 2020, <https://catonmat.net/tools/generate-sqrt2-digits> <a name=\"ref2\"></a>"
   ]
  }
 ],
 "metadata": {
  "kernelspec": {
   "display_name": "Python 3",
   "language": "python",
   "name": "python3"
  },
  "language_info": {
   "codemirror_mode": {
    "name": "ipython",
    "version": 3
   },
   "file_extension": ".py",
   "mimetype": "text/x-python",
   "name": "python",
   "nbconvert_exporter": "python",
   "pygments_lexer": "ipython3",
   "version": "3.8.5"
  }
 },
 "nbformat": 4,
 "nbformat_minor": 4
}
