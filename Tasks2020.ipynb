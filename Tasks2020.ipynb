{
 "cells": [
  {
   "cell_type": "markdown",
   "metadata": {},
   "source": [
    "# Machine Learning and Statistics Tasks 2020"
   ]
  },
  {
   "cell_type": "markdown",
   "metadata": {},
   "source": [
    "## Task 1: sqrt2"
   ]
  },
  {
   "cell_type": "markdown",
   "metadata": {},
   "source": [
    "This task was accomplished by writing the sqrt2(**its, prec**) Python function, shown below.\n",
    "\n",
    "This function uses continued fractions to calculate a rational number that is an approximate value of the square root of 2 [1](#ref1). It uses a recursive algorithm to calculate and refine the numerator *p* and denominator *q* of the approximate value step by step for a number of iterations **its** (200 in this case for a very accurate approximation). The algorithm is as follows:\n",
    "\n",
    "p<sub>n+1</sub> = p<sub>n</sub> + 2q<sub>n</sub><br>\n",
    "q<sub>n+1</sub> = p<sub>n</sub> + q<sub>n</sub>"
   ]
  },
  {
   "cell_type": "markdown",
   "metadata": {},
   "source": [
    "where *p<sub>n+1</sub>* is the next step of the numerator, *p<sub>n</sub>* is the previous step of the numerator, and *q<sub>n+1</sub>* and *q<sub>n</sub>* are the next and previous steps of the numerator and denominator respectively.\n",
    "\n",
    "The function then takes the final calculated values for *p* and *q* and uses a long division algorithm to calculate digits of the square root of 2 decimal by decimal. This algorithm is a computational implementation of pen-and-paper long division. The algorithm has 5 steps:\n",
    "\n",
    "1. Calculate the result of division of *p* and *q*.\n",
    "2. Append the result from Step 1 to the string that is to be returned by the function.\n",
    "3. Calculate the remainder after division of *p* and *q*.\n",
    "4. Make *p* equal the result from Step 3 multipled by 10.\n",
    "5. Repeat for **prec** number of digits (100 in this case).\n",
    "\n",
    "The algorithm is defined as follows:"
   ]
  },
  {
   "cell_type": "code",
   "execution_count": 48,
   "metadata": {},
   "outputs": [],
   "source": [
    "# sqrt2 function definition, calculates the square\n",
    "# root of 2 through long division and returns \n",
    "# a string with the digits of the square root of 2\n",
    "# sqrt2 takes in its, which is number of iterations of\n",
    "# the continued fractions recursive algorithm\n",
    "# and prec which indicates to how many decimal\n",
    "# places the string with the digits of the square\n",
    "# root of 2 to be returned has\n",
    "def sqrt2(its, prec):\n",
    "\n",
    "    # pold is the numerator at previous step, pnew is numerator at next step\n",
    "    pold = 1\n",
    "    pnew = 0\n",
    "\n",
    "    # qold is the denominator at previous step, qnew is denominator at next step\n",
    "    qold = 1\n",
    "    qnew = 0\n",
    "\n",
    "    # This calculates an approximation of sqrt(2) as a rational number\n",
    "    # with pnew and pold as numerators (in the next and previous step\n",
    "    # respectively) and qnew and qold as denominators (in the next and \n",
    "    # previous steps respectively) for its iterations \n",
    "    for i in range(0, its):\n",
    "\n",
    "        # This is the recursion algorithm, derived from\n",
    "        # the formula for continued fractions\n",
    "        pnew = pold + 2*qold\n",
    "        qnew = pold + qold\n",
    "\n",
    "        # Make the new numerator and denominator\n",
    "        # equal the old numerator and denominator\n",
    "        # for the next step in the loop\n",
    "        pold = pnew\n",
    "        qold = qnew\n",
    "\n",
    "    # This appends the first digit of sqrt(2)\n",
    "    # to output_string (the string to be\n",
    "    # returned)\n",
    "    output_string = str(pnew // qnew) + \".\"\n",
    "\n",
    "    # This is the first step in the long division algorithm\n",
    "    # pnew is set to the remainder of pnew and qnew after\n",
    "    # division and multipled by ten for the first decimal\n",
    "    # place\n",
    "    pnew = (pnew % qnew) * 10\n",
    "\n",
    "    # This performs the long division algorithm for each decimal place\n",
    "    # (defined by prec) and appends the digits of sqrt(2) \n",
    "    # digit by digit to the output_string, which is returned \n",
    "    # at the end of the function\n",
    "    for i in range(1, prec+1):\n",
    "        output_string += str(pnew//qnew)\n",
    "        pnew = (pnew % qnew) * 10\n",
    "\n",
    "    # This returns the string, which has prec decimal places\n",
    "    # of sqrt(2)\n",
    "    return output_string"
   ]
  },
  {
   "cell_type": "markdown",
   "metadata": {},
   "source": [
    "The square root of 2 to 100 decimal places is:"
   ]
  },
  {
   "cell_type": "code",
   "execution_count": 49,
   "metadata": {
    "scrolled": true
   },
   "outputs": [],
   "source": [
    "result = sqrt2(200, 100)"
   ]
  },
  {
   "cell_type": "code",
   "execution_count": 50,
   "metadata": {},
   "outputs": [
    {
     "data": {
      "text/plain": [
       "'1.4142135623730950488016887242096980785696718753769480731766797379907324784621070388503875343276415727'"
      ]
     },
     "execution_count": 50,
     "metadata": {},
     "output_type": "execute_result"
    }
   ],
   "source": [
    "result"
   ]
  },
  {
   "cell_type": "markdown",
   "metadata": {},
   "source": [
    "This is compared with this result taken from a square root of 2 calculator online [2](#ref2):"
   ]
  },
  {
   "cell_type": "code",
   "execution_count": 51,
   "metadata": {},
   "outputs": [],
   "source": [
    "test = \"1.4142135623730950488016887242096980785696718753769480731766797379907324784621070388503875343276415727\""
   ]
  },
  {
   "cell_type": "code",
   "execution_count": 52,
   "metadata": {
    "scrolled": true
   },
   "outputs": [
    {
     "data": {
      "text/plain": [
       "True"
      ]
     },
     "execution_count": 52,
     "metadata": {},
     "output_type": "execute_result"
    }
   ],
   "source": [
    "result == test"
   ]
  },
  {
   "cell_type": "markdown",
   "metadata": {},
   "source": [
    "This result has been verified to be correct."
   ]
  },
  {
   "cell_type": "markdown",
   "metadata": {},
   "source": [
    "## Task 2: Chi-squared test\n",
    "This task was accomplished using the dataset taken from Wikipedia article on the Chi-squared test [3](#ref3) https://en.wikipedia.org/wiki/Chi-squared_test\n",
    "\n",
    "The task is to perform the Chi-squared test on a dataset of workers. This dataset has the number of workers in particular neighborhoods (marked A, B, C and D). The workers are delineated by what type of worker they are, i.e., whether they are white collar, blue collar or no collar workers.\n",
    "\n",
    "The null hypothesis is that type of worker does not effect their choice of neighborhood. In other words, the number of X collar worker (where X is White, Blue or No) in a particular neighborhood is the same as the average of all the workers in that neighborhood.\n",
    "\n",
    "First, the workers dataset is defined as a dataframe using the Pandas package:"
   ]
  },
  {
   "cell_type": "code",
   "execution_count": 2,
   "metadata": {
    "scrolled": true
   },
   "outputs": [
    {
     "data": {
      "text/html": [
       "<div>\n",
       "<style scoped>\n",
       "    .dataframe tbody tr th:only-of-type {\n",
       "        vertical-align: middle;\n",
       "    }\n",
       "\n",
       "    .dataframe tbody tr th {\n",
       "        vertical-align: top;\n",
       "    }\n",
       "\n",
       "    .dataframe thead th {\n",
       "        text-align: right;\n",
       "    }\n",
       "</style>\n",
       "<table border=\"1\" class=\"dataframe\">\n",
       "  <thead>\n",
       "    <tr style=\"text-align: right;\">\n",
       "      <th></th>\n",
       "      <th>A</th>\n",
       "      <th>B</th>\n",
       "      <th>C</th>\n",
       "      <th>D</th>\n",
       "    </tr>\n",
       "  </thead>\n",
       "  <tbody>\n",
       "    <tr>\n",
       "      <th>White collar</th>\n",
       "      <td>90</td>\n",
       "      <td>60</td>\n",
       "      <td>104</td>\n",
       "      <td>95</td>\n",
       "    </tr>\n",
       "    <tr>\n",
       "      <th>Blue collar</th>\n",
       "      <td>30</td>\n",
       "      <td>50</td>\n",
       "      <td>51</td>\n",
       "      <td>20</td>\n",
       "    </tr>\n",
       "    <tr>\n",
       "      <th>No collar</th>\n",
       "      <td>30</td>\n",
       "      <td>40</td>\n",
       "      <td>45</td>\n",
       "      <td>35</td>\n",
       "    </tr>\n",
       "  </tbody>\n",
       "</table>\n",
       "</div>"
      ],
      "text/plain": [
       "               A   B    C   D\n",
       "White collar  90  60  104  95\n",
       "Blue collar   30  50   51  20\n",
       "No collar     30  40   45  35"
      ]
     },
     "execution_count": 2,
     "metadata": {},
     "output_type": "execute_result"
    }
   ],
   "source": [
    "# import pandas module\n",
    "import pandas as pd\n",
    "# define workers dataframe\n",
    "workers = pd.DataFrame(\n",
    "    # number of workers\n",
    "    # different columns indicate different neighborhoods\n",
    "    # different rows indicate different collars or types\n",
    "    [\n",
    "        [90,60,104,95],\n",
    "        [30,50,51,20],\n",
    "        [30,40, 45, 35],\n",
    "    ],\n",
    "    # define row labels\n",
    "    index=[\"White collar\",\"Blue collar\", \"No collar\"],\n",
    "    # define column labels\n",
    "    columns=[\"A\", \"B\", \"C\", \"D\"])\n",
    "workers           "
   ]
  },
  {
   "cell_type": "markdown",
   "metadata": {},
   "source": [
    "The **chi2_contingency** function taken from the **scipy.stats** package is used to calculate the Chi-squared statistic, p-value, degrees of freedom and expected values using this dataframe: [4](#ref4)"
   ]
  },
  {
   "cell_type": "code",
   "execution_count": 3,
   "metadata": {},
   "outputs": [
    {
     "name": "stdout",
     "output_type": "stream",
     "text": [
      "The chi-squared statistic is: 24.5712028585826\n",
      "The p-value is: 0.0004098425861096696\n",
      "The no of degrees of freedom is: 6\n",
      "The expected values are: \n",
      "[[ 80.53846154  80.53846154 107.38461538  80.53846154]\n",
      " [ 34.84615385  34.84615385  46.46153846  34.84615385]\n",
      " [ 34.61538462  34.61538462  46.15384615  34.61538462]]\n"
     ]
    }
   ],
   "source": [
    "from scipy.stats import chi2_contingency\n",
    "# Chi-squared statistic\n",
    "print(\"The chi-squared statistic is: {}\".format(chi2_contingency(workers)[0]))\n",
    "# p-value\n",
    "print(\"The p-value is: {}\".format(chi2_contingency(workers)[1]))\n",
    "# degrees of freedom\n",
    "print(\"The no of degrees of freedom is: {}\".format(chi2_contingency(workers)[2]))\n",
    "# numpy array of expected values\n",
    "print(\"The expected values are: \\n{}\".format(chi2_contingency(workers)[3]))"
   ]
  },
  {
   "cell_type": "markdown",
   "metadata": {},
   "source": [
    "24.57 (or 24.6 when rounded down) is the test statistic calculated in the Wikipedia article, so the result is verified. This value is the sum of the observed values minus the expected values, divided by the expected values.\n",
    "\n",
    "The p-value associated with this statistic is approximately 0.00041. This means that we can safely reject the null hypothesis that the type or collar of the worker has no effect on choice of neighborhood as 0.00041 is much less than the critical value of 0.05 or 5% [5](#ref5).\n",
    "\n",
    "The degrees of freedom in this instance is the number of rows minus 1 multiplied by the number of columns minus 1, which is the same as the number of neighborhoods -1 multipled by the number of types of workers -1. This equals 6.\n",
    "\n",
    "The expected values are the average, mean or expected values of the number of workers calculated by multiplying the total number of workers in each neighborhood by the total number of workers by collar divided by the total number of workers (650). For instance, for the expected number of white collar workers in A:"
   ]
  },
  {
   "cell_type": "code",
   "execution_count": 81,
   "metadata": {},
   "outputs": [
    {
     "data": {
      "text/plain": [
       "80.53846153846155"
      ]
     },
     "execution_count": 81,
     "metadata": {},
     "output_type": "execute_result"
    }
   ],
   "source": [
    "(90+30+30)*((90 +60 +104+95)/650)"
   ]
  },
  {
   "cell_type": "markdown",
   "metadata": {},
   "source": [
    "which is the value output by **chi2_contingency**:"
   ]
  },
  {
   "cell_type": "code",
   "execution_count": 83,
   "metadata": {
    "scrolled": true
   },
   "outputs": [
    {
     "name": "stdout",
     "output_type": "stream",
     "text": [
      "80.53846153846153\n"
     ]
    }
   ],
   "source": [
    "print(chi2_contingency(workers)[3][0][0])"
   ]
  },
  {
   "cell_type": "markdown",
   "metadata": {},
   "source": [
    "## Task 3: Excel functions\n",
    "The two Excel functions that are being compared are STDDEV.P and STDDEV.S. Both these functions calculate the standard deviation of a given dataset. The difference is that STDDEV.P assumes that the data is a representation of the whole population [6](#ref6). STDDEV.S assumes that the data is merely a sample of the population [7](#ref7). STDDEV.P uses the standard \"n\" method whereas STDDEV.S uses the \"n-1\" method to calculate the standard deviation.\n",
    "\n",
    "In order to test the difference between these two, the package **numpy** is used. First, we create a poulation **p** of 100,000 randomly generated data points using the normal distribution using the numpy.random.normal function so the standard deivation is known in advance (it is 1). Then the function numpy.random.choice is used to select a sample **s** of size 100 from the population. Then the equivalent of STDDEV.P and STDDEV.S in numpy using the numpy.std function [8](#ref8) is applied to the sample and compared with the actual standard deviation of the population.\n",
    "\n",
    "Since the sample is chosen randomly, it is possible it is chosen in such a way that the standard deviations of the sample are not close to the population. To counteract this, the calculations are done 1000 times and the averages of the standard deviations over those iterations are chosen as estimates of the standard deviation.\n",
    "\n",
    "The percentage marginal differences between the real and estimated standard deviations calculated and output to the screen:"
   ]
  },
  {
   "cell_type": "code",
   "execution_count": 54,
   "metadata": {},
   "outputs": [
    {
     "name": "stdout",
     "output_type": "stream",
     "text": [
      "The average marginal difference between the real and calculated standard deviation for STDDEV.P is: 0.6695826129887061%\n",
      "The average marginal difference between the real and calculated standard deviation for STDDEV.S is: 0.16917432057246273%\n"
     ]
    }
   ],
   "source": [
    "import numpy as np\n",
    "\n",
    "# mean = 0 and standard deviation = 1\n",
    "mu, sigma = 0, 1 \n",
    "\n",
    "# standard deviations set to 0 before loop runs\n",
    "p_std = 0\n",
    "s_std = 0\n",
    "\n",
    "# loop to get average over 500 random samples\n",
    "for i in range(0, 1000):\n",
    "    # p is the population generated using np.random.normal\n",
    "    p = np.random.normal(mu, sigma, 100000)\n",
    "    # s is the randomly selected sample of p\n",
    "    s = np.random.choice(p, 100)\n",
    "\n",
    "    # STDDEV.P equivalent on s\n",
    "    p_std += numpy.std(s)\n",
    "    # STDDEV.S equivalent on s\n",
    "    s_std += numpy.std(s, ddof=1)\n",
    "    \n",
    "# get averages over loop\n",
    "p_std = p_std/1000\n",
    "s_std = s_std/1000\n",
    "\n",
    "# Percentage marginal differences. The absolute value of the difference is calculated in case the std calculated \n",
    "# is less than 1.\n",
    "print(\"The average marginal difference between the real and calculated standard deviation for STDDEV.P is: {}%\".format(100*(abs((1-p_std)/1))))\n",
    "print(\"The average marginal difference between the real and calculated standard deviation for STDDEV.S is: {}%\".format(100*(abs((1-s_std)/1))))"
   ]
  },
  {
   "cell_type": "markdown",
   "metadata": {},
   "source": [
    "As can be seen from the results, the equivalent method for STDDEV.P calculates an estimate for the standard deviation that is further away from the real value (1) than the estimate calculated by the equivalent method for STDDEV.S. It has been verified that STDDEV.S estimates the standard deviation better when the dataset used is a sample of the population."
   ]
  },
  {
   "cell_type": "markdown",
   "metadata": {},
   "source": [
    "## References ##"
   ]
  },
  {
   "cell_type": "markdown",
   "metadata": {},
   "source": [
    "[1] Numbers, constants and computation, Xavier Gourdon and Pascal Sebah, accessed 6 October 2020, <http://numbers.computation.free.fr/Constants/Sqrt2/sqrt2.html> <a name=\"ref1\"></a><br>\n",
    "[2] CATONMAT, Peteris Krumins, accessed 6 October 2020, <https://catonmat.net/tools/generate-sqrt2-digits> <a name=\"ref2\"></a> <br>\n",
    "[3] En.wikipedia.org. 2020. Chi-Squared Test. [online] Available at: <https://en.wikipedia.org/wiki/Chi-squared_test> [Accessed 7 November 2020]. <a name=\"ref3\"></a><br> \n",
    "[4] Medium. 2020. Gentle Introduction To Chi-Square Test For Independence. [online] Available at: <https://towardsdatascience.com/gentle-introduction-to-chi-square-test-for-independence-7182a7414a95> [Accessed 7 November 2020]. <a name=\"ref4\"></a><br> \n",
    "[5] Statistics How To. 2020. Chi-Square Statistic: How To Calculate It / Distribution - Statistics How To. [online] Available at: <https://www.statisticshowto.com/probability-and-statistics/chi-square/> [Accessed 7 November 2020]. <a name=\"ref5\"></a><br>\n",
    "[6] Support.microsoft.com. 2020. STDEV.S Function. [online] Available at: <https://support.microsoft.com/en-us/office/stdev-s-function-7d69cf97-0c1f-4acf-be27-f3e83904cc23> [Accessed 16 November 2020]. <a name=\"ref6\"></a><br>\n",
    "[7] Support.microsoft.com. 2020. STDEV.P Function. [online] Available at: <https://support.microsoft.com/en-us/office/stdev-p-function-6e917c05-31a0-496f-ade7-4f4e7462f285> [Accessed 16 November 2020]. <a name=\"ref7\"></a><br>\n",
    "[8] Numpy.org. 2020. Numpy.Std — Numpy V1.19 Manual. [online] Available at: <https://numpy.org/doc/stable/reference/generated/numpy.std.html> [Accessed 16 November 2020]. <a name=\"ref8\"></a><br>"
   ]
  }
 ],
 "metadata": {
  "kernelspec": {
   "display_name": "Python 3",
   "language": "python",
   "name": "python3"
  },
  "language_info": {
   "codemirror_mode": {
    "name": "ipython",
    "version": 3
   },
   "file_extension": ".py",
   "mimetype": "text/x-python",
   "name": "python",
   "nbconvert_exporter": "python",
   "pygments_lexer": "ipython3",
   "version": "3.8.5"
  }
 },
 "nbformat": 4,
 "nbformat_minor": 4
}
