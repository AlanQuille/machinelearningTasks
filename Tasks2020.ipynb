{
 "cells": [
  {
   "cell_type": "markdown",
   "metadata": {},
   "source": [
    "# Machine Learning and Statistics Tasks 2020"
   ]
  },
  {
   "cell_type": "markdown",
   "metadata": {},
   "source": [
    "## Task 1: sqrt2"
   ]
  },
  {
   "cell_type": "markdown",
   "metadata": {},
   "source": [
    "This task was accomplished by writing the sqrt2(**its, prec**) Python function, shown below.\n",
    "\n",
    "This function uses continued fractions to calculate a rational number that is an approximate value of the square root of 2 [1](#ref1). It uses a recursive algorithm to calculate and refine the numerator *p* and denominator *q* of the approximate value step by step for a number of iterations **its** (200 in this case for a very accurate approximation). The algorithm is as follows:\n",
    "\n",
    "p<sub>n+1</sub> = p<sub>n</sub> + 2q<sub>n</sub><br>\n",
    "q<sub>n+1</sub> = p<sub>n</sub> + q<sub>n</sub>"
   ]
  },
  {
   "cell_type": "markdown",
   "metadata": {},
   "source": [
    "where *p<sub>n+1</sub>* is the next step of the numerator, *p<sub>n</sub>* is the previous step of the numerator, and *q<sub>n+1</sub>* and *q<sub>n</sub>* are the next and previous steps of the numerator and denominator respectively.\n",
    "\n",
    "The function then takes the final calculated values for *p* and *q* and uses a long division algorithm to calculate digits of the square root of 2 decimal by decimal. This algorithm is a computational implementation of pen-and-paper long division. The algorithm has 5 steps:\n",
    "\n",
    "1. Calculate the result of division of *p* and *q*.\n",
    "2. Append the result from Step 1 to the string that is to be returned by the function.\n",
    "3. Calculate the remainder after division of *p* and *q*.\n",
    "4. Make *p* equal the result from Step 3 multipled by 10.\n",
    "5. Repeat for **prec** number of digits (100 in this case).\n",
    "\n",
    "The algorithm is defined as follows:"
   ]
  },
  {
   "cell_type": "code",
   "execution_count": 48,
   "metadata": {},
   "outputs": [],
   "source": [
    "# sqrt2 function definition, calculates the square\n",
    "# root of 2 through long division and returns \n",
    "# a string with the digits of the square root of 2\n",
    "# sqrt2 takes in its, which is number of iterations of\n",
    "# the continued fractions recursive algorithm\n",
    "# and prec which indicates to how many decimal\n",
    "# places the string with the digits of the square\n",
    "# root of 2 to be returned has\n",
    "def sqrt2(its, prec):\n",
    "\n",
    "    # pold is the numerator at previous step, pnew is numerator at next step\n",
    "    pold = 1\n",
    "    pnew = 0\n",
    "\n",
    "    # qold is the denominator at previous step, qnew is denominator at next step\n",
    "    qold = 1\n",
    "    qnew = 0\n",
    "\n",
    "    # This calculates an approximation of sqrt(2) as a rational number\n",
    "    # with pnew and pold as numerators (in the next and previous step\n",
    "    # respectively) and qnew and qold as denominators (in the next and \n",
    "    # previous steps respectively) for its iterations \n",
    "    for i in range(0, its):\n",
    "\n",
    "        # This is the recursion algorithm, derived from\n",
    "        # the formula for continued fractions\n",
    "        pnew = pold + 2*qold\n",
    "        qnew = pold + qold\n",
    "\n",
    "        # Make the new numerator and denominator\n",
    "        # equal the old numerator and denominator\n",
    "        # for the next step in the loop\n",
    "        pold = pnew\n",
    "        qold = qnew\n",
    "\n",
    "    # This appends the first digit of sqrt(2)\n",
    "    # to output_string (the string to be\n",
    "    # returned)\n",
    "    output_string = str(pnew // qnew) + \".\"\n",
    "\n",
    "    # This is the first step in the long division algorithm\n",
    "    # pnew is set to the remainder of pnew and qnew after\n",
    "    # division and multipled by ten for the first decimal\n",
    "    # place\n",
    "    pnew = (pnew % qnew) * 10\n",
    "\n",
    "    # This performs the long division algorithm for each decimal place\n",
    "    # (defined by prec) and appends the digits of sqrt(2) \n",
    "    # digit by digit to the output_string, which is returned \n",
    "    # at the end of the function\n",
    "    for i in range(1, prec+1):\n",
    "        output_string += str(pnew//qnew)\n",
    "        pnew = (pnew % qnew) * 10\n",
    "\n",
    "    # This returns the string, which has prec decimal places\n",
    "    # of sqrt(2)\n",
    "    return output_string"
   ]
  },
  {
   "cell_type": "markdown",
   "metadata": {},
   "source": [
    "The square root of 2 to 100 decimal places is:"
   ]
  },
  {
   "cell_type": "code",
   "execution_count": 49,
   "metadata": {
    "scrolled": true
   },
   "outputs": [],
   "source": [
    "result = sqrt2(200, 100)"
   ]
  },
  {
   "cell_type": "code",
   "execution_count": 50,
   "metadata": {},
   "outputs": [
    {
     "data": {
      "text/plain": [
       "'1.4142135623730950488016887242096980785696718753769480731766797379907324784621070388503875343276415727'"
      ]
     },
     "execution_count": 50,
     "metadata": {},
     "output_type": "execute_result"
    }
   ],
   "source": [
    "result"
   ]
  },
  {
   "cell_type": "markdown",
   "metadata": {},
   "source": [
    "This is compared with this result taken from a square root of 2 calculator online [2](#ref2):"
   ]
  },
  {
   "cell_type": "code",
   "execution_count": 51,
   "metadata": {},
   "outputs": [],
   "source": [
    "test = \"1.4142135623730950488016887242096980785696718753769480731766797379907324784621070388503875343276415727\""
   ]
  },
  {
   "cell_type": "code",
   "execution_count": 52,
   "metadata": {
    "scrolled": true
   },
   "outputs": [
    {
     "data": {
      "text/plain": [
       "True"
      ]
     },
     "execution_count": 52,
     "metadata": {},
     "output_type": "execute_result"
    }
   ],
   "source": [
    "result == test"
   ]
  },
  {
   "cell_type": "markdown",
   "metadata": {},
   "source": [
    "This result has been verified to be correct."
   ]
  },
  {
   "cell_type": "markdown",
   "metadata": {},
   "source": [
    "## Task 2: Chi-squared test\n",
    "This task was accomplished using the dataset taken from Wikipedia article on the Chi-squared test [3](#ref3) https://en.wikipedia.org/wiki/Chi-squared_test\n",
    "\n",
    "The task is to perform the Chi-squared test on a dataset of workers. This dataset has the number of workers in particular neighborhoods (marked A, B, C and D). The workers are delineated by what type of worker they are, i.e., whether they are white collar, blue collar or no collar workers.\n",
    "\n",
    "The null hypothesis is that type of worker does not effect their choice of neighborhood. In other words, the number of X collar worker (where X is White, Blue or No) in a particular neighborhood is the same as the average of all the workers in that neighborhood.\n",
    "\n",
    "First, the workers dataset is defined as a dataframe using the Pandas package:"
   ]
  },
  {
   "cell_type": "code",
   "execution_count": 2,
   "metadata": {
    "scrolled": true
   },
   "outputs": [
    {
     "data": {
      "text/html": [
       "<div>\n",
       "<style scoped>\n",
       "    .dataframe tbody tr th:only-of-type {\n",
       "        vertical-align: middle;\n",
       "    }\n",
       "\n",
       "    .dataframe tbody tr th {\n",
       "        vertical-align: top;\n",
       "    }\n",
       "\n",
       "    .dataframe thead th {\n",
       "        text-align: right;\n",
       "    }\n",
       "</style>\n",
       "<table border=\"1\" class=\"dataframe\">\n",
       "  <thead>\n",
       "    <tr style=\"text-align: right;\">\n",
       "      <th></th>\n",
       "      <th>A</th>\n",
       "      <th>B</th>\n",
       "      <th>C</th>\n",
       "      <th>D</th>\n",
       "    </tr>\n",
       "  </thead>\n",
       "  <tbody>\n",
       "    <tr>\n",
       "      <th>White collar</th>\n",
       "      <td>90</td>\n",
       "      <td>60</td>\n",
       "      <td>104</td>\n",
       "      <td>95</td>\n",
       "    </tr>\n",
       "    <tr>\n",
       "      <th>Blue collar</th>\n",
       "      <td>30</td>\n",
       "      <td>50</td>\n",
       "      <td>51</td>\n",
       "      <td>20</td>\n",
       "    </tr>\n",
       "    <tr>\n",
       "      <th>No collar</th>\n",
       "      <td>30</td>\n",
       "      <td>40</td>\n",
       "      <td>45</td>\n",
       "      <td>35</td>\n",
       "    </tr>\n",
       "  </tbody>\n",
       "</table>\n",
       "</div>"
      ],
      "text/plain": [
       "               A   B    C   D\n",
       "White collar  90  60  104  95\n",
       "Blue collar   30  50   51  20\n",
       "No collar     30  40   45  35"
      ]
     },
     "execution_count": 2,
     "metadata": {},
     "output_type": "execute_result"
    }
   ],
   "source": [
    "# import pandas module\n",
    "import pandas as pd\n",
    "# define workers dataframe\n",
    "workers = pd.DataFrame(\n",
    "    # number of workers\n",
    "    # different columns indicate different neighborhoods\n",
    "    # different rows indicate different collars or types\n",
    "    [\n",
    "        [90,60,104,95],\n",
    "        [30,50,51,20],\n",
    "        [30,40, 45, 35],\n",
    "    ],\n",
    "    # define row labels\n",
    "    index=[\"White collar\",\"Blue collar\", \"No collar\"],\n",
    "    # define column labels\n",
    "    columns=[\"A\", \"B\", \"C\", \"D\"])\n",
    "workers           "
   ]
  },
  {
   "cell_type": "markdown",
   "metadata": {},
   "source": [
    "The **chi2_contingency** function taken from the **scipy.stats** package is used to calculate the Chi-squared statistic, p-value, degrees of freedom and expected values using this dataframe: [4](#ref4)"
   ]
  },
  {
   "cell_type": "code",
   "execution_count": 3,
   "metadata": {},
   "outputs": [
    {
     "name": "stdout",
     "output_type": "stream",
     "text": [
      "The chi-squared statistic is: 24.5712028585826\n",
      "The p-value is: 0.0004098425861096696\n",
      "The no of degrees of freedom is: 6\n",
      "The expected values are: \n",
      "[[ 80.53846154  80.53846154 107.38461538  80.53846154]\n",
      " [ 34.84615385  34.84615385  46.46153846  34.84615385]\n",
      " [ 34.61538462  34.61538462  46.15384615  34.61538462]]\n"
     ]
    }
   ],
   "source": [
    "from scipy.stats import chi2_contingency\n",
    "# Chi-squared statistic\n",
    "print(\"The chi-squared statistic is: {}\".format(chi2_contingency(workers)[0]))\n",
    "# p-value\n",
    "print(\"The p-value is: {}\".format(chi2_contingency(workers)[1]))\n",
    "# degrees of freedom\n",
    "print(\"The no of degrees of freedom is: {}\".format(chi2_contingency(workers)[2]))\n",
    "# numpy array of expected values\n",
    "print(\"The expected values are: \\n{}\".format(chi2_contingency(workers)[3]))"
   ]
  },
  {
   "cell_type": "markdown",
   "metadata": {},
   "source": [
    "24.57 (or 24.6 when rounded down) is the test statistic calculated in the Wikipedia article, so the result is verified. This value is the sum of the observed values minus the expected values, divided by the expected values.\n",
    "\n",
    "The p-value associated with this statistic is approximately 0.00041. This means that we can safely reject the null hypothesis that the type or collar of the worker has no effect on choice of neighborhood as 0.00041 is much less than the critical value of 0.05 or 5% [5](#ref5).\n",
    "\n",
    "The degrees of freedom in this instance is the number of rows minus 1 multiplied by the number of columns minus 1, which is the same as the number of neighborhoods -1 multipled by the number of types of workers -1. This equals 6.\n",
    "\n",
    "The expected values are the average, mean or expected values of the number of workers calculated by multiplying the total number of workers in each neighborhood by the total number of workers by collar divided by the total number of workers (650). For instance, for the expected number of white collar workers in A:"
   ]
  },
  {
   "cell_type": "code",
   "execution_count": 81,
   "metadata": {},
   "outputs": [
    {
     "data": {
      "text/plain": [
       "80.53846153846155"
      ]
     },
     "execution_count": 81,
     "metadata": {},
     "output_type": "execute_result"
    }
   ],
   "source": [
    "(90+30+30)*((90 +60 +104+95)/650)"
   ]
  },
  {
   "cell_type": "markdown",
   "metadata": {},
   "source": [
    "which is the value output by **chi2_contingency**:"
   ]
  },
  {
   "cell_type": "code",
   "execution_count": 83,
   "metadata": {
    "scrolled": true
   },
   "outputs": [
    {
     "name": "stdout",
     "output_type": "stream",
     "text": [
      "80.53846153846153\n"
     ]
    }
   ],
   "source": [
    "print(chi2_contingency(workers)[3][0][0])"
   ]
  },
  {
   "cell_type": "markdown",
   "metadata": {},
   "source": [
    "## Task 3: Excel functions\n",
    "The two Excel functions that are being compared are STDDEV.P and STDDEV.S. Both these functions calculate the standard deviation of a given dataset. The difference is that STDDEV.P assumes that the data is a representation of the whole population [6](#ref6). STDDEV.S assumes that the data is merely a sample of the population [7](#ref7). STDDEV.P uses the standard \"n\" method whereas STDDEV.S uses the \"n-1\" method to calculate the standard deviation.\n",
    "\n",
    "In order to test the difference between these two, the package **numpy** is used. First, a poulation **p** of 100,000 randomly generated data points is created using the normal distribution using the numpy.random.normal function so the standard deivation is known in advance (it is 1). Then the function numpy.random.choice is used to select a sample **s** of size 100 from the population. Then the equivalent of STDDEV.P and STDDEV.S in numpy using the numpy.std function [8](#ref8) is applied to the sample and compared with the actual standard deviation of the population.\n",
    "\n",
    "Since the sample is chosen randomly, it is possible it is chosen in such a way that the standard deviations of the sample are not close to the population. To counteract this, the calculations are done 1000 times and the averages of the standard deviations over those iterations are chosen as estimates of the standard deviation.\n",
    "\n",
    "The percentage marginal differences between the real and estimated standard deviations calculated and output to the screen:"
   ]
  },
  {
   "cell_type": "code",
   "execution_count": 10,
   "metadata": {},
   "outputs": [
    {
     "name": "stdout",
     "output_type": "stream",
     "text": [
      "The average marginal difference between the real and calculated standard deviation for STDDEV.P is: 0.954%\n",
      "The average marginal difference between the real and calculated standard deviation for STDDEV.S is: 0.455%\n"
     ]
    }
   ],
   "source": [
    "import numpy as np\n",
    "\n",
    "# mean = 0 and standard deviation = 1\n",
    "mu, sigma = 0, 1 \n",
    "\n",
    "# standard deviations set to 0 before loop runs\n",
    "p_std = 0\n",
    "s_std = 0\n",
    "\n",
    "# loop to get average over 500 random samples\n",
    "for i in range(0, 1000):\n",
    "    # p is the population generated using np.random.normal\n",
    "    p = np.random.normal(mu, sigma, 100000)\n",
    "    # s is the randomly selected sample of p\n",
    "    s = np.random.choice(p, 100)\n",
    "\n",
    "    # STDDEV.P equivalent on s\n",
    "    p_std += np.std(s)\n",
    "    # STDDEV.S equivalent on s\n",
    "    s_std += np.std(s, ddof=1)\n",
    "    \n",
    "# get averages over loop\n",
    "p_std = p_std/1000\n",
    "s_std = s_std/1000\n",
    "\n",
    "# Percentage marginal differences. The absolute value of the difference is calculated in case the std calculated \n",
    "p_marg = 100*(abs((1-p_std)/1))\n",
    "s_marg = 100*(abs((1-s_std)/1))\n",
    "print(\"The average marginal difference between the real and calculated standard deviation for STDDEV.P is: {}%\".format(round(p_marg, 3)))\n",
    "print(\"The average marginal difference between the real and calculated standard deviation for STDDEV.S is: {}%\".format(round(s_marg, 3)))"
   ]
  },
  {
   "cell_type": "markdown",
   "metadata": {},
   "source": [
    "As can be seen from the results, the equivalent method for STDDEV.P calculates an estimate for the standard deviation that is further away from the real value (1) than the estimate calculated by the equivalent method for STDDEV.S. It has been verified that STDDEV.S estimates the standard deviation better when the dataset used is a sample of the population."
   ]
  },
  {
   "cell_type": "markdown",
   "metadata": {},
   "source": [
    "## Task 4: k-means clustering\n",
    "The task was accomplished using the **sklearn** package.[1]\n",
    "\n",
    "The task is to partition the Iris flower dataset into clusters. This is accomplished using k-means clustering. K-means clustering takes an unlabeled dataset with more than one dimension and finds a preset number of clusters which best divides the data in the dataset[2]. The k-means algorithm works by:\n",
    "\n",
    "1. Randomly selecting k data points from the dataset (initial cluster point)\n",
    "2. Take each datum in the dataset and measure the distance from each and every initial cluster point.\n",
    "3. Assign each datum to the initial cluster point that is closest to the datum.\n",
    "4. Calculate the arithmetic mean of each cluster (not the initial cluster point, but the entire cluster).\n",
    "5. Repeat steps 1-4, but with the arithmetic mean of each cluster as the initial cluster point.\n",
    "\n",
    "This method is applied to the Iris flower dataset. There are three types of flower: virginia, setosa and versicolour so 3 clusters will be used in the KMeans function taken from the **sklearn** package. First, the data is imported using **pandas**:"
   ]
  },
  {
   "cell_type": "code",
   "execution_count": 116,
   "metadata": {
    "scrolled": true
   },
   "outputs": [
    {
     "data": {
      "text/html": [
       "<div>\n",
       "<style scoped>\n",
       "    .dataframe tbody tr th:only-of-type {\n",
       "        vertical-align: middle;\n",
       "    }\n",
       "\n",
       "    .dataframe tbody tr th {\n",
       "        vertical-align: top;\n",
       "    }\n",
       "\n",
       "    .dataframe thead th {\n",
       "        text-align: right;\n",
       "    }\n",
       "</style>\n",
       "<table border=\"1\" class=\"dataframe\">\n",
       "  <thead>\n",
       "    <tr style=\"text-align: right;\">\n",
       "      <th></th>\n",
       "      <th>sepal_length</th>\n",
       "      <th>sepal_width</th>\n",
       "      <th>petal_length</th>\n",
       "      <th>petal_width</th>\n",
       "      <th>species</th>\n",
       "    </tr>\n",
       "  </thead>\n",
       "  <tbody>\n",
       "    <tr>\n",
       "      <th>0</th>\n",
       "      <td>5.1</td>\n",
       "      <td>3.5</td>\n",
       "      <td>1.4</td>\n",
       "      <td>0.2</td>\n",
       "      <td>setosa</td>\n",
       "    </tr>\n",
       "    <tr>\n",
       "      <th>1</th>\n",
       "      <td>4.9</td>\n",
       "      <td>3.0</td>\n",
       "      <td>1.4</td>\n",
       "      <td>0.2</td>\n",
       "      <td>setosa</td>\n",
       "    </tr>\n",
       "    <tr>\n",
       "      <th>2</th>\n",
       "      <td>4.7</td>\n",
       "      <td>3.2</td>\n",
       "      <td>1.3</td>\n",
       "      <td>0.2</td>\n",
       "      <td>setosa</td>\n",
       "    </tr>\n",
       "    <tr>\n",
       "      <th>3</th>\n",
       "      <td>4.6</td>\n",
       "      <td>3.1</td>\n",
       "      <td>1.5</td>\n",
       "      <td>0.2</td>\n",
       "      <td>setosa</td>\n",
       "    </tr>\n",
       "    <tr>\n",
       "      <th>4</th>\n",
       "      <td>5.0</td>\n",
       "      <td>3.6</td>\n",
       "      <td>1.4</td>\n",
       "      <td>0.2</td>\n",
       "      <td>setosa</td>\n",
       "    </tr>\n",
       "    <tr>\n",
       "      <th>...</th>\n",
       "      <td>...</td>\n",
       "      <td>...</td>\n",
       "      <td>...</td>\n",
       "      <td>...</td>\n",
       "      <td>...</td>\n",
       "    </tr>\n",
       "    <tr>\n",
       "      <th>70</th>\n",
       "      <td>5.9</td>\n",
       "      <td>3.2</td>\n",
       "      <td>4.8</td>\n",
       "      <td>1.8</td>\n",
       "      <td>versicolor</td>\n",
       "    </tr>\n",
       "    <tr>\n",
       "      <th>71</th>\n",
       "      <td>6.1</td>\n",
       "      <td>2.8</td>\n",
       "      <td>4.0</td>\n",
       "      <td>1.3</td>\n",
       "      <td>versicolor</td>\n",
       "    </tr>\n",
       "    <tr>\n",
       "      <th>72</th>\n",
       "      <td>6.3</td>\n",
       "      <td>2.5</td>\n",
       "      <td>4.9</td>\n",
       "      <td>1.5</td>\n",
       "      <td>versicolor</td>\n",
       "    </tr>\n",
       "    <tr>\n",
       "      <th>73</th>\n",
       "      <td>6.1</td>\n",
       "      <td>2.8</td>\n",
       "      <td>4.7</td>\n",
       "      <td>1.2</td>\n",
       "      <td>versicolor</td>\n",
       "    </tr>\n",
       "    <tr>\n",
       "      <th>74</th>\n",
       "      <td>6.4</td>\n",
       "      <td>2.9</td>\n",
       "      <td>4.3</td>\n",
       "      <td>1.3</td>\n",
       "      <td>versicolor</td>\n",
       "    </tr>\n",
       "  </tbody>\n",
       "</table>\n",
       "<p>75 rows × 5 columns</p>\n",
       "</div>"
      ],
      "text/plain": [
       "    sepal_length  sepal_width  petal_length  petal_width     species\n",
       "0            5.1          3.5           1.4          0.2      setosa\n",
       "1            4.9          3.0           1.4          0.2      setosa\n",
       "2            4.7          3.2           1.3          0.2      setosa\n",
       "3            4.6          3.1           1.5          0.2      setosa\n",
       "4            5.0          3.6           1.4          0.2      setosa\n",
       "..           ...          ...           ...          ...         ...\n",
       "70           5.9          3.2           4.8          1.8  versicolor\n",
       "71           6.1          2.8           4.0          1.3  versicolor\n",
       "72           6.3          2.5           4.9          1.5  versicolor\n",
       "73           6.1          2.8           4.7          1.2  versicolor\n",
       "74           6.4          2.9           4.3          1.3  versicolor\n",
       "\n",
       "[75 rows x 5 columns]"
      ]
     },
     "execution_count": 116,
     "metadata": {},
     "output_type": "execute_result"
    }
   ],
   "source": [
    "# k-means clustering\n",
    "import sklearn\n",
    "import pandas as pd\n",
    "import numpy as np\n",
    "\n",
    "# df is the main dataframe that will be used.\n",
    "df = pd.read_csv(\"iris.csv\")\n",
    "df.head(75)"
   ]
  },
  {
   "cell_type": "markdown",
   "metadata": {},
   "source": [
    "The values without the headers shown previously are taken into a list of lists called **data**:"
   ]
  },
  {
   "cell_type": "code",
   "execution_count": 117,
   "metadata": {},
   "outputs": [
    {
     "name": "stdout",
     "output_type": "stream",
     "text": [
      "[[5.1 3.5 1.4 0.2]\n",
      " [4.9 3.  1.4 0.2]\n",
      " [4.7 3.2 1.3 0.2]\n",
      " [4.6 3.1 1.5 0.2]\n",
      " [5.  3.6 1.4 0.2]\n",
      " [5.4 3.9 1.7 0.4]\n",
      " [4.6 3.4 1.4 0.3]\n",
      " [5.  3.4 1.5 0.2]\n",
      " [4.4 2.9 1.4 0.2]\n",
      " [4.9 3.1 1.5 0.1]\n",
      " [5.4 3.7 1.5 0.2]\n",
      " [4.8 3.4 1.6 0.2]\n",
      " [4.8 3.  1.4 0.1]\n",
      " [4.3 3.  1.1 0.1]\n",
      " [5.8 4.  1.2 0.2]\n",
      " [5.7 4.4 1.5 0.4]\n",
      " [5.4 3.9 1.3 0.4]\n",
      " [5.1 3.5 1.4 0.3]\n",
      " [5.7 3.8 1.7 0.3]\n",
      " [5.1 3.8 1.5 0.3]\n",
      " [5.4 3.4 1.7 0.2]\n",
      " [5.1 3.7 1.5 0.4]\n",
      " [4.6 3.6 1.  0.2]\n",
      " [5.1 3.3 1.7 0.5]\n",
      " [4.8 3.4 1.9 0.2]\n",
      " [5.  3.  1.6 0.2]\n",
      " [5.  3.4 1.6 0.4]\n",
      " [5.2 3.5 1.5 0.2]\n",
      " [5.2 3.4 1.4 0.2]\n",
      " [4.7 3.2 1.6 0.2]\n",
      " [4.8 3.1 1.6 0.2]\n",
      " [5.4 3.4 1.5 0.4]\n",
      " [5.2 4.1 1.5 0.1]\n",
      " [5.5 4.2 1.4 0.2]\n",
      " [4.9 3.1 1.5 0.1]\n",
      " [5.  3.2 1.2 0.2]\n",
      " [5.5 3.5 1.3 0.2]\n",
      " [4.9 3.1 1.5 0.1]\n",
      " [4.4 3.  1.3 0.2]\n",
      " [5.1 3.4 1.5 0.2]\n",
      " [5.  3.5 1.3 0.3]\n",
      " [4.5 2.3 1.3 0.3]\n",
      " [4.4 3.2 1.3 0.2]\n",
      " [5.  3.5 1.6 0.6]\n",
      " [5.1 3.8 1.9 0.4]\n",
      " [4.8 3.  1.4 0.3]\n",
      " [5.1 3.8 1.6 0.2]\n",
      " [4.6 3.2 1.4 0.2]\n",
      " [5.3 3.7 1.5 0.2]\n",
      " [5.  3.3 1.4 0.2]\n",
      " [7.  3.2 4.7 1.4]\n",
      " [6.4 3.2 4.5 1.5]\n",
      " [6.9 3.1 4.9 1.5]\n",
      " [5.5 2.3 4.  1.3]\n",
      " [6.5 2.8 4.6 1.5]\n",
      " [5.7 2.8 4.5 1.3]\n",
      " [6.3 3.3 4.7 1.6]\n",
      " [4.9 2.4 3.3 1. ]\n",
      " [6.6 2.9 4.6 1.3]\n",
      " [5.2 2.7 3.9 1.4]\n",
      " [5.  2.  3.5 1. ]\n",
      " [5.9 3.  4.2 1.5]\n",
      " [6.  2.2 4.  1. ]\n",
      " [6.1 2.9 4.7 1.4]\n",
      " [5.6 2.9 3.6 1.3]\n",
      " [6.7 3.1 4.4 1.4]\n",
      " [5.6 3.  4.5 1.5]\n",
      " [5.8 2.7 4.1 1. ]\n",
      " [6.2 2.2 4.5 1.5]\n",
      " [5.6 2.5 3.9 1.1]\n",
      " [5.9 3.2 4.8 1.8]\n",
      " [6.1 2.8 4.  1.3]\n",
      " [6.3 2.5 4.9 1.5]\n",
      " [6.1 2.8 4.7 1.2]\n",
      " [6.4 2.9 4.3 1.3]\n",
      " [6.6 3.  4.4 1.4]\n",
      " [6.8 2.8 4.8 1.4]\n",
      " [6.7 3.  5.  1.7]\n",
      " [6.  2.9 4.5 1.5]\n",
      " [5.7 2.6 3.5 1. ]\n",
      " [5.5 2.4 3.8 1.1]\n",
      " [5.5 2.4 3.7 1. ]\n",
      " [5.8 2.7 3.9 1.2]\n",
      " [6.  2.7 5.1 1.6]\n",
      " [5.4 3.  4.5 1.5]\n",
      " [6.  3.4 4.5 1.6]\n",
      " [6.7 3.1 4.7 1.5]\n",
      " [6.3 2.3 4.4 1.3]\n",
      " [5.6 3.  4.1 1.3]\n",
      " [5.5 2.5 4.  1.3]\n",
      " [5.5 2.6 4.4 1.2]\n",
      " [6.1 3.  4.6 1.4]\n",
      " [5.8 2.6 4.  1.2]\n",
      " [5.  2.3 3.3 1. ]\n",
      " [5.6 2.7 4.2 1.3]\n",
      " [5.7 3.  4.2 1.2]\n",
      " [5.7 2.9 4.2 1.3]\n",
      " [6.2 2.9 4.3 1.3]\n",
      " [5.1 2.5 3.  1.1]\n",
      " [5.7 2.8 4.1 1.3]\n",
      " [6.3 3.3 6.  2.5]\n",
      " [5.8 2.7 5.1 1.9]\n",
      " [7.1 3.  5.9 2.1]\n",
      " [6.3 2.9 5.6 1.8]\n",
      " [6.5 3.  5.8 2.2]\n",
      " [7.6 3.  6.6 2.1]\n",
      " [4.9 2.5 4.5 1.7]\n",
      " [7.3 2.9 6.3 1.8]\n",
      " [6.7 2.5 5.8 1.8]\n",
      " [7.2 3.6 6.1 2.5]\n",
      " [6.5 3.2 5.1 2. ]\n",
      " [6.4 2.7 5.3 1.9]\n",
      " [6.8 3.  5.5 2.1]\n",
      " [5.7 2.5 5.  2. ]\n",
      " [5.8 2.8 5.1 2.4]\n",
      " [6.4 3.2 5.3 2.3]\n",
      " [6.5 3.  5.5 1.8]\n",
      " [7.7 3.8 6.7 2.2]\n",
      " [7.7 2.6 6.9 2.3]\n",
      " [6.  2.2 5.  1.5]\n",
      " [6.9 3.2 5.7 2.3]\n",
      " [5.6 2.8 4.9 2. ]\n",
      " [7.7 2.8 6.7 2. ]\n",
      " [6.3 2.7 4.9 1.8]\n",
      " [6.7 3.3 5.7 2.1]\n",
      " [7.2 3.2 6.  1.8]\n",
      " [6.2 2.8 4.8 1.8]\n",
      " [6.1 3.  4.9 1.8]\n",
      " [6.4 2.8 5.6 2.1]\n",
      " [7.2 3.  5.8 1.6]\n",
      " [7.4 2.8 6.1 1.9]\n",
      " [7.9 3.8 6.4 2. ]\n",
      " [6.4 2.8 5.6 2.2]\n",
      " [6.3 2.8 5.1 1.5]\n",
      " [6.1 2.6 5.6 1.4]\n",
      " [7.7 3.  6.1 2.3]\n",
      " [6.3 3.4 5.6 2.4]\n",
      " [6.4 3.1 5.5 1.8]\n",
      " [6.  3.  4.8 1.8]\n",
      " [6.9 3.1 5.4 2.1]\n",
      " [6.7 3.1 5.6 2.4]\n",
      " [6.9 3.1 5.1 2.3]\n",
      " [5.8 2.7 5.1 1.9]\n",
      " [6.8 3.2 5.9 2.3]\n",
      " [6.7 3.3 5.7 2.5]\n",
      " [6.7 3.  5.2 2.3]\n",
      " [6.3 2.5 5.  1.9]\n",
      " [6.5 3.  5.2 2. ]\n",
      " [6.2 3.4 5.4 2.3]\n",
      " [5.9 3.  5.1 1.8]]\n"
     ]
    }
   ],
   "source": [
    "# Takes the values of the iris dataset without headers ro species\n",
    "data = df.iloc[:, [0,1,2,3]].values\n",
    "print(data)"
   ]
  },
  {
   "cell_type": "markdown",
   "metadata": {},
   "source": [
    "The k-means clustering with 3 clusters is performed as follows:"
   ]
  },
  {
   "cell_type": "code",
   "execution_count": 119,
   "metadata": {
    "scrolled": false
   },
   "outputs": [
    {
     "name": "stdout",
     "output_type": "stream",
     "text": [
      "[1 1 1 1 1 1 1 1 1 1 1 1 1 1 1 1 1 1 1 1 1 1 1 1 1 1 1 1 1 1 1 1 1 1 1 1 1\n",
      " 1 1 1 1 1 1 1 1 1 1 1 1 1 0 0 2 0 0 0 0 0 0 0 0 0 0 0 0 0 0 0 0 0 0 0 0 0\n",
      " 0 0 0 2 0 0 0 0 0 0 0 0 0 0 0 0 0 0 0 0 0 0 0 0 0 0 2 0 2 2 2 2 0 2 2 2 2\n",
      " 2 2 0 0 2 2 2 2 0 2 0 2 0 2 2 0 0 2 2 2 2 2 0 2 2 2 2 0 2 2 2 0 2 2 2 0 2\n",
      " 2 0]\n",
      "[[5.9016129  2.7483871  4.39354839 1.43387097]\n",
      " [5.006      3.418      1.464      0.244     ]\n",
      " [6.85       3.07368421 5.74210526 2.07105263]]\n"
     ]
    }
   ],
   "source": [
    "# kmeans with 3 clusters\n",
    "kmeans3 = KMeans(n_clusters=3)\n",
    "# prediction of dataset\n",
    "y_kmeans3 = kmeans3.fit_predict(data)\n",
    "# print the predicted clusters for each datum\n",
    "print(y_kmeans3)\n",
    "# print the centroids for each cluster\n",
    "print(kmeans3.cluster_centers_)"
   ]
  },
  {
   "cell_type": "markdown",
   "metadata": {},
   "source": [
    "A visual representation of the clusters is presented in a scatterplot as follows:"
   ]
  },
  {
   "cell_type": "code",
   "execution_count": 143,
   "metadata": {
    "scrolled": true
   },
   "outputs": [
    {
     "data": {
      "image/png": "[encoded data removed]",
      "text/plain": [
       "<Figure size 432x288 with 1 Axes>"
      ]
     },
     "metadata": {},
     "output_type": "display_data"
    }
   ],
   "source": [
    "# to generate plots using pyplot from matplotlib\n",
    "import matplotlib.pyplot as plt\n",
    "# seaborn makes the plots look nicer\n",
    "import seaborn as sns\n",
    "\n",
    "# create grid for pyplots from seaborn\n",
    "sns.set()\n",
    "\n",
    "\n",
    "def scatter_clusters(column1, column2, xlabel, ylabel):\n",
    "    #Visualising the clusters\n",
    "    plt.scatter(data[y_kmeans3 == 1, column1], data[y_kmeans3 == 1, column2], s = 100, c = 'red', label = 'setosa')\n",
    "    plt.scatter(data[y_kmeans3 == 0, column1], data[y_kmeans3 == 0, column2], s = 100, c = 'blue', label = 'versicolour')\n",
    "    plt.scatter(data[y_kmeans3 == 2, column1], data[y_kmeans3 == 2, column2], s = 100, c = 'green', label = 'virginica')\n",
    "\n",
    "    #Plotting the centroids of the clusters\n",
    "    plt.scatter(kmeans3.cluster_centers_[:, column1], kmeans3.cluster_centers_[:,column2], s = 100, c = 'yellow', label = 'cluster centroids');\n",
    "\n",
    "    # Title of the histogram plot\n",
    "    plt.title(\"K means clusters, k=3\", fontsize=25)\n",
    "    \n",
    "    # the x label of histogrm\n",
    "    plt.xlabel(xlabel, fontsize=20)\n",
    "    \n",
    "    # the y label of histogram\n",
    "    plt.ylabel(ylabel, fontsize=20)\n",
    "    \n",
    "    # change size of ticks of x and y axes\n",
    "    ax = plt.gca()\n",
    "    ax.tick_params(axis = 'both', which = 'major', labelsize = 14)\n",
    "\n",
    "    # plot legend\n",
    "    plt.legend()\n",
    "    \n",
    "scatter_clusters(0, 1, \"Sepal_length\", \"Sepal_width\")"
   ]
  },
  {
   "cell_type": "code",
   "execution_count": 144,
   "metadata": {},
   "outputs": [
    {
     "data": {
      "image/png": "[encoded data removed]",
      "text/plain": [
       "<Figure size 432x288 with 1 Axes>"
      ]
     },
     "metadata": {},
     "output_type": "display_data"
    }
   ],
   "source": [
    "scatter_clusters(2, 3, \"Petal_length\", \"Petal_width\")"
   ]
  },
  {
   "cell_type": "markdown",
   "metadata": {},
   "source": [
    "As can be seen from the scatter plots, the cluster centroids divide up the data very accurately.\n",
    "\n",
    "We want to predict whether each flower is virginica, setosa or versicolor according to this clustering. To do this, we assign the value of 1 to setosa, 0 to versicolour and 2 to virginica to the predicted values (this is obtained by comparing the predicted values to the species of flower in the original dataset:"
   ]
  },
  {
   "cell_type": "code",
   "execution_count": 120,
   "metadata": {
    "scrolled": true
   },
   "outputs": [
    {
     "name": "stdout",
     "output_type": "stream",
     "text": [
      "0    setosa\n",
      "1    setosa\n",
      "2    setosa\n",
      "3    setosa\n",
      "4    setosa\n",
      "5    setosa\n",
      "6    setosa\n",
      "7    setosa\n",
      "8    setosa\n",
      "9    setosa\n",
      "Name: species, dtype: object\n",
      "70    versicolor\n",
      "71    versicolor\n",
      "72    versicolor\n",
      "73    versicolor\n",
      "Name: species, dtype: object\n",
      "140    virginica\n",
      "141    virginica\n",
      "142    virginica\n",
      "143    virginica\n",
      "144    virginica\n",
      "145    virginica\n",
      "146    virginica\n",
      "147    virginica\n",
      "148    virginica\n",
      "149    virginica\n",
      "Name: species, dtype: object\n",
      "[1 1 1 1 1 1 1 1 1 1 1 1 1 1 1 1 1 1 1 1 1 1 1 1 1 1 1 1 1 1 1 1 1 1 1 1 1\n",
      " 1 1 1 1 1 1 1 1 1 1 1 1 1 0 0 2 0 0 0 0 0 0 0 0 0 0 0 0 0 0 0 0 0 0 0 0 0\n",
      " 0 0 0 2 0 0 0 0 0 0 0 0 0 0 0 0 0 0 0 0 0 0 0 0 0 0 2 0 2 2 2 2 0 2 2 2 2\n",
      " 2 2 0 0 2 2 2 2 0 2 0 2 0 2 2 0 0 2 2 2 2 2 0 2 2 2 2 0 2 2 2 0 2 2 2 0 2\n",
      " 2 0]\n"
     ]
    }
   ],
   "source": [
    "print(df['species'][0:10])\n",
    "print(df['species'][70:74])\n",
    "print(df['species'][140:150])\n",
    "print(y_kmeans3)"
   ]
  },
  {
   "cell_type": "markdown",
   "metadata": {},
   "source": [
    "The list of True or False values indicating whether a prediction was accurate is as follows:"
   ]
  },
  {
   "cell_type": "code",
   "execution_count": 121,
   "metadata": {
    "scrolled": false
   },
   "outputs": [
    {
     "name": "stdout",
     "output_type": "stream",
     "text": [
      "[ True  True  True  True  True  True  True  True  True  True  True  True\n",
      "  True  True  True  True  True  True  True  True  True  True  True  True\n",
      "  True  True  True  True  True  True  True  True  True  True  True  True\n",
      "  True  True  True  True  True  True  True  True  True  True  True  True\n",
      "  True  True  True  True False  True  True  True  True  True  True  True\n",
      "  True  True  True  True  True  True  True  True  True  True  True  True\n",
      "  True  True  True  True  True False  True  True  True  True  True  True\n",
      "  True  True  True  True  True  True  True  True  True  True  True  True\n",
      "  True  True  True  True  True False  True  True  True  True False  True\n",
      "  True  True  True  True  True False False  True  True  True  True False\n",
      "  True False  True False  True  True False False  True  True  True  True\n",
      "  True False  True  True  True  True False  True  True  True False  True\n",
      "  True  True False  True  True False]\n"
     ]
    }
   ],
   "source": [
    "pred_list = [\"setosa\" if x == 1 else 'versicolor' if x == 0 else 'virginica' for x in y_kmeans3]\n",
    "original_list = df['species'].values\n",
    "# return True if predicted value matches original value\n",
    "# False otherwise\n",
    "accurate = original_list == pred_list\n",
    "print(accurate)"
   ]
  },
  {
   "cell_type": "markdown",
   "metadata": {},
   "source": [
    "To get the accuracy percentage of the predicted values, this list is summed, divided by the total number of entries and multiplied by 100:"
   ]
  },
  {
   "cell_type": "code",
   "execution_count": 122,
   "metadata": {},
   "outputs": [
    {
     "name": "stdout",
     "output_type": "stream",
     "text": [
      "The accuracy percentage is: 89.33\n"
     ]
    }
   ],
   "source": [
    "perc = 100*np.sum(np.array(accurate))/len(accurate)\n",
    "print(\"The accuracy percentage is: {:.2f}\".format(perc))"
   ]
  },
  {
   "cell_type": "markdown",
   "metadata": {},
   "source": [
    "This is very accurate, as expected since the data was already divided into 3 clusters (the species of flower).\n",
    "\n",
    "It is known in advance that 3 clusters is the optimal way to divide and categorise the data. But we can confirm this using the Elbow method. The Elbow method works by trying different number of clusters k and comparing the total variation within the clusters. This total variation decreases with each successive increase in k. However, there will be one value of k for which the total variation decreases substantially from the previous value k-1 but the total variation decrease from k to k+1 will not be nearly as substantial. This value is called the \"elbow\" because when the variation (or the \"within cluster sum of squares\") is plotted against k the graph resembles an elbow at this point.\n",
    "\n",
    "The elbow method applied to the Iris dataset is as follows:"
   ]
  },
  {
   "cell_type": "code",
   "execution_count": 152,
   "metadata": {
    "scrolled": false
   },
   "outputs": [
    {
     "data": {
      "image/png": "[encoded data removed]",
      "text/plain": [
       "<Figure size 432x288 with 1 Axes>"
      ]
     },
     "metadata": {},
     "output_type": "display_data"
    }
   ],
   "source": [
    "variation = []\n",
    "\n",
    "for i in range(1, 11):\n",
    "    kmeans = KMeans(n_clusters = i, init = 'k-means++', max_iter = 300, n_init = 10, random_state = 0)\n",
    "    kmeans.fit(x)\n",
    "    variation.append(kmeans.inertia_)\n",
    "\n",
    "# Plot to observe the elbow\n",
    "plt.plot(range(1, 11), wcss)\n",
    "\n",
    "# Title of the histogram plot\n",
    "plt.title(\"Elbow method\", fontsize=25)\n",
    "    \n",
    "# x label of elbow plot\n",
    "plt.xlabel(\"k\", fontsize=20)\n",
    "    \n",
    "# y label of elbow plot\n",
    "plt.ylabel(\"Variation (wcss)\", fontsize=20)\n",
    "\n",
    "# change size of ticks of x and y axes\n",
    "ax = plt.gca()\n",
    "ax.tick_params(axis = 'both', which = 'major', labelsize = 14)\n",
    "\n",
    "# show all x ticks to emphasise elbow\n",
    "plt.xticks(range(1, 11))\n",
    "\n",
    "# show plot\n",
    "plt.show()"
   ]
  },
  {
   "cell_type": "markdown",
   "metadata": {},
   "source": [
    "As can be seem from the graph, the \"elbow\" is clearly locatged at k=3. This confirms that the optimal number of clusters for the Iris flower dataset is 3, which is the number of species of flower."
   ]
  },
  {
   "cell_type": "markdown",
   "metadata": {},
   "source": [
    "## References ##"
   ]
  },
  {
   "cell_type": "markdown",
   "metadata": {},
   "source": [
    "[1] Numbers, constants and computation, Xavier Gourdon and Pascal Sebah, accessed 6 October 2020, <http://numbers.computation.free.fr/Constants/Sqrt2/sqrt2.html> <a name=\"ref1\"></a><br>\n",
    "[2] CATONMAT, Peteris Krumins, accessed 6 October 2020, <https://catonmat.net/tools/generate-sqrt2-digits> <a name=\"ref2\"></a> <br>\n",
    "[3] En.wikipedia.org. 2020. Chi-Squared Test. [online] Available at: <https://en.wikipedia.org/wiki/Chi-squared_test> [Accessed 7 November 2020]. <a name=\"ref3\"></a><br> \n",
    "[4] Medium. 2020. Gentle Introduction To Chi-Square Test For Independence. [online] Available at: <https://towardsdatascience.com/gentle-introduction-to-chi-square-test-for-independence-7182a7414a95> [Accessed 7 November 2020]. <a name=\"ref4\"></a><br> \n",
    "[5] Statistics How To. 2020. Chi-Square Statistic: How To Calculate It / Distribution - Statistics How To. [online] Available at: <https://www.statisticshowto.com/probability-and-statistics/chi-square/> [Accessed 7 November 2020]. <a name=\"ref5\"></a><br>\n",
    "[6] Support.microsoft.com. 2020. STDEV.S Function. [online] Available at: <https://support.microsoft.com/en-us/office/stdev-s-function-7d69cf97-0c1f-4acf-be27-f3e83904cc23> [Accessed 16 November 2020]. <a name=\"ref6\"></a><br>\n",
    "[7] Support.microsoft.com. 2020. STDEV.P Function. [online] Available at: <https://support.microsoft.com/en-us/office/stdev-p-function-6e917c05-31a0-496f-ade7-4f4e7462f285> [Accessed 16 November 2020]. <a name=\"ref7\"></a><br>\n",
    "[8] Numpy.org. 2020. Numpy.Std — Numpy V1.19 Manual. [online] Available at: <https://numpy.org/doc/stable/reference/generated/numpy.std.html> [Accessed 16 November 2020]. <a name=\"ref8\"></a><br>"
   ]
  }
 ],
 "metadata": {
  "kernelspec": {
   "display_name": "Python 3",
   "language": "python",
   "name": "python3"
  },
  "language_info": {
   "codemirror_mode": {
    "name": "ipython",
    "version": 3
   },
   "file_extension": ".py",
   "mimetype": "text/x-python",
   "name": "python",
   "nbconvert_exporter": "python",
   "pygments_lexer": "ipython3",
   "version": "3.8.5"
  }
 },
 "nbformat": 4,
 "nbformat_minor": 4
}
